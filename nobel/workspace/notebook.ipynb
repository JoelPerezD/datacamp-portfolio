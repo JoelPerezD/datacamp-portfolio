{
 "cells": [
  {
   "cell_type": "markdown",
   "id": "db5bd2ce-918a-4f7d-a927-a3ea74c4b456",
   "metadata": {},
   "source": [
    "The Nobel Prize has been among the most prestigious international awards since 1901. Each year, awards are bestowed in chemistry, literature, physics, physiology or medicine, economics, and peace. In addition to the honor, prestige, and substantial prize money, the recipient also gets a gold medal with an image of Alfred Nobel (1833 - 1896), who established the prize.\n",
    "\n",
    "![](Nobel_Prize.png)\n",
    "\n",
    "The Nobel Foundation has made a dataset available of all prize winners from the outset of the awards from 1901 to 2023. The dataset used in this project is from the Nobel Prize API and is available in the `nobel.csv` file in the `data` folder.\n",
    "\n",
    "In this project, you'll get a chance to explore and answer several questions related to this prizewinning data. And we encourage you then to explore further questions that you're interested in!"
   ]
  },
  {
   "cell_type": "code",
   "execution_count": 1,
   "id": "11fd5946-7bd1-495c-aa7f-ff6e7e4a350b",
   "metadata": {
    "executionCancelledAt": null,
    "executionTime": 11,
    "lastExecutedAt": 1758081758231,
    "lastExecutedByKernel": "f42e0594-faa1-458e-8a1c-3554d5a2b89c",
    "lastScheduledRunId": null,
    "lastSuccessfullyExecutedCode": "# Loading in required libraries\nimport pandas as pd\nimport seaborn as sns\nimport numpy as np\n\n# Start coding here!\n"
   },
   "outputs": [],
   "source": [
    "# Loading in required libraries\n",
    "import pandas as pd\n",
    "import seaborn as sns\n",
    "import numpy as np\n",
    "\n",
    "# Start coding here!\n"
   ]
  },
  {
   "cell_type": "code",
   "execution_count": 2,
   "id": "67f99344-6e15-46f6-ab66-598169488e1f",
   "metadata": {
    "executionCancelledAt": null,
    "executionTime": null,
    "lastExecutedAt": null,
    "lastExecutedByKernel": null,
    "lastScheduledRunId": null,
    "lastSuccessfullyExecutedCode": null,
    "outputsMetadata": {
     "0": {
      "height": 550,
      "tableState": {
       "customFilter": {
        "const": {
         "type": "boolean",
         "valid": true,
         "value": true
        },
        "id": "efbe2e40-0a4a-42e2-a264-e40902b06742",
        "nodeType": "const"
       }
      },
      "type": "dataFrame"
     }
    }
   },
   "outputs": [
    {
     "data": {
      "text/html": [
       "<div>\n",
       "<style scoped>\n",
       "    .dataframe tbody tr th:only-of-type {\n",
       "        vertical-align: middle;\n",
       "    }\n",
       "\n",
       "    .dataframe tbody tr th {\n",
       "        vertical-align: top;\n",
       "    }\n",
       "\n",
       "    .dataframe thead th {\n",
       "        text-align: right;\n",
       "    }\n",
       "</style>\n",
       "<table border=\"1\" class=\"dataframe\">\n",
       "  <thead>\n",
       "    <tr style=\"text-align: right;\">\n",
       "      <th></th>\n",
       "      <th>year</th>\n",
       "      <th>category</th>\n",
       "      <th>prize</th>\n",
       "      <th>motivation</th>\n",
       "      <th>prize_share</th>\n",
       "      <th>laureate_id</th>\n",
       "      <th>laureate_type</th>\n",
       "      <th>full_name</th>\n",
       "      <th>birth_date</th>\n",
       "      <th>birth_city</th>\n",
       "      <th>birth_country</th>\n",
       "      <th>sex</th>\n",
       "      <th>organization_name</th>\n",
       "      <th>organization_city</th>\n",
       "      <th>organization_country</th>\n",
       "      <th>death_date</th>\n",
       "      <th>death_city</th>\n",
       "      <th>death_country</th>\n",
       "    </tr>\n",
       "  </thead>\n",
       "  <tbody>\n",
       "    <tr>\n",
       "      <th>0</th>\n",
       "      <td>1901</td>\n",
       "      <td>Chemistry</td>\n",
       "      <td>The Nobel Prize in Chemistry 1901</td>\n",
       "      <td>\"in recognition of the extraordinary services ...</td>\n",
       "      <td>1/1</td>\n",
       "      <td>160</td>\n",
       "      <td>Individual</td>\n",
       "      <td>Jacobus Henricus van 't Hoff</td>\n",
       "      <td>1852-08-30</td>\n",
       "      <td>Rotterdam</td>\n",
       "      <td>Netherlands</td>\n",
       "      <td>Male</td>\n",
       "      <td>Berlin University</td>\n",
       "      <td>Berlin</td>\n",
       "      <td>Germany</td>\n",
       "      <td>1911-03-01</td>\n",
       "      <td>Berlin</td>\n",
       "      <td>Germany</td>\n",
       "    </tr>\n",
       "    <tr>\n",
       "      <th>1</th>\n",
       "      <td>1901</td>\n",
       "      <td>Literature</td>\n",
       "      <td>The Nobel Prize in Literature 1901</td>\n",
       "      <td>\"in special recognition of his poetic composit...</td>\n",
       "      <td>1/1</td>\n",
       "      <td>569</td>\n",
       "      <td>Individual</td>\n",
       "      <td>Sully Prudhomme</td>\n",
       "      <td>1839-03-16</td>\n",
       "      <td>Paris</td>\n",
       "      <td>France</td>\n",
       "      <td>Male</td>\n",
       "      <td>NaN</td>\n",
       "      <td>NaN</td>\n",
       "      <td>NaN</td>\n",
       "      <td>1907-09-07</td>\n",
       "      <td>Châtenay</td>\n",
       "      <td>France</td>\n",
       "    </tr>\n",
       "    <tr>\n",
       "      <th>2</th>\n",
       "      <td>1901</td>\n",
       "      <td>Medicine</td>\n",
       "      <td>The Nobel Prize in Physiology or Medicine 1901</td>\n",
       "      <td>\"for his work on serum therapy, especially its...</td>\n",
       "      <td>1/1</td>\n",
       "      <td>293</td>\n",
       "      <td>Individual</td>\n",
       "      <td>Emil Adolf von Behring</td>\n",
       "      <td>1854-03-15</td>\n",
       "      <td>Hansdorf (Lawice)</td>\n",
       "      <td>Prussia (Poland)</td>\n",
       "      <td>Male</td>\n",
       "      <td>Marburg University</td>\n",
       "      <td>Marburg</td>\n",
       "      <td>Germany</td>\n",
       "      <td>1917-03-31</td>\n",
       "      <td>Marburg</td>\n",
       "      <td>Germany</td>\n",
       "    </tr>\n",
       "    <tr>\n",
       "      <th>3</th>\n",
       "      <td>1901</td>\n",
       "      <td>Peace</td>\n",
       "      <td>The Nobel Peace Prize 1901</td>\n",
       "      <td>NaN</td>\n",
       "      <td>1/2</td>\n",
       "      <td>462</td>\n",
       "      <td>Individual</td>\n",
       "      <td>Jean Henry Dunant</td>\n",
       "      <td>1828-05-08</td>\n",
       "      <td>Geneva</td>\n",
       "      <td>Switzerland</td>\n",
       "      <td>Male</td>\n",
       "      <td>NaN</td>\n",
       "      <td>NaN</td>\n",
       "      <td>NaN</td>\n",
       "      <td>1910-10-30</td>\n",
       "      <td>Heiden</td>\n",
       "      <td>Switzerland</td>\n",
       "    </tr>\n",
       "    <tr>\n",
       "      <th>4</th>\n",
       "      <td>1901</td>\n",
       "      <td>Peace</td>\n",
       "      <td>The Nobel Peace Prize 1901</td>\n",
       "      <td>NaN</td>\n",
       "      <td>1/2</td>\n",
       "      <td>463</td>\n",
       "      <td>Individual</td>\n",
       "      <td>Frédéric Passy</td>\n",
       "      <td>1822-05-20</td>\n",
       "      <td>Paris</td>\n",
       "      <td>France</td>\n",
       "      <td>Male</td>\n",
       "      <td>NaN</td>\n",
       "      <td>NaN</td>\n",
       "      <td>NaN</td>\n",
       "      <td>1912-06-12</td>\n",
       "      <td>Paris</td>\n",
       "      <td>France</td>\n",
       "    </tr>\n",
       "  </tbody>\n",
       "</table>\n",
       "</div>"
      ],
      "text/plain": [
       "   year    category                                           prize  \\\n",
       "0  1901   Chemistry               The Nobel Prize in Chemistry 1901   \n",
       "1  1901  Literature              The Nobel Prize in Literature 1901   \n",
       "2  1901    Medicine  The Nobel Prize in Physiology or Medicine 1901   \n",
       "3  1901       Peace                      The Nobel Peace Prize 1901   \n",
       "4  1901       Peace                      The Nobel Peace Prize 1901   \n",
       "\n",
       "                                          motivation prize_share  laureate_id  \\\n",
       "0  \"in recognition of the extraordinary services ...         1/1          160   \n",
       "1  \"in special recognition of his poetic composit...         1/1          569   \n",
       "2  \"for his work on serum therapy, especially its...         1/1          293   \n",
       "3                                                NaN         1/2          462   \n",
       "4                                                NaN         1/2          463   \n",
       "\n",
       "  laureate_type                     full_name  birth_date         birth_city  \\\n",
       "0    Individual  Jacobus Henricus van 't Hoff  1852-08-30          Rotterdam   \n",
       "1    Individual               Sully Prudhomme  1839-03-16              Paris   \n",
       "2    Individual        Emil Adolf von Behring  1854-03-15  Hansdorf (Lawice)   \n",
       "3    Individual             Jean Henry Dunant  1828-05-08             Geneva   \n",
       "4    Individual                Frédéric Passy  1822-05-20              Paris   \n",
       "\n",
       "      birth_country   sex   organization_name organization_city  \\\n",
       "0       Netherlands  Male   Berlin University            Berlin   \n",
       "1            France  Male                 NaN               NaN   \n",
       "2  Prussia (Poland)  Male  Marburg University           Marburg   \n",
       "3       Switzerland  Male                 NaN               NaN   \n",
       "4            France  Male                 NaN               NaN   \n",
       "\n",
       "  organization_country  death_date death_city death_country  \n",
       "0              Germany  1911-03-01     Berlin       Germany  \n",
       "1                  NaN  1907-09-07   Châtenay        France  \n",
       "2              Germany  1917-03-31    Marburg       Germany  \n",
       "3                  NaN  1910-10-30     Heiden   Switzerland  \n",
       "4                  NaN  1912-06-12      Paris        France  "
      ]
     },
     "execution_count": 2,
     "metadata": {},
     "output_type": "execute_result"
    }
   ],
   "source": [
    "\n",
    "df= pd.read_csv('data/nobel.csv')\n",
    "df.head()"
   ]
  },
  {
   "cell_type": "markdown",
   "id": "83253be8-7da9-45a5-b973-6faad6100a38",
   "metadata": {
    "customType": "ai-prompt-history",
    "readOnly": true
   },
   "source": [
    "What is the most commonly awarded gender and birth country?"
   ]
  },
  {
   "cell_type": "code",
   "execution_count": 3,
   "id": "5d670e33-d125-4795-a8ed-f92bd203561f",
   "metadata": {
    "executionCancelledAt": null,
    "executionTime": 52,
    "lastExecutedAt": 1758081758334,
    "lastExecutedByKernel": "f42e0594-faa1-458e-8a1c-3554d5a2b89c",
    "lastScheduledRunId": null,
    "lastSuccessfullyExecutedCode": "df.columns"
   },
   "outputs": [
    {
     "data": {
      "text/plain": [
       "Index(['year', 'category', 'prize', 'motivation', 'prize_share', 'laureate_id',\n",
       "       'laureate_type', 'full_name', 'birth_date', 'birth_city',\n",
       "       'birth_country', 'sex', 'organization_name', 'organization_city',\n",
       "       'organization_country', 'death_date', 'death_city', 'death_country'],\n",
       "      dtype='object')"
      ]
     },
     "execution_count": 3,
     "metadata": {},
     "output_type": "execute_result"
    }
   ],
   "source": [
    "df.columns"
   ]
  },
  {
   "cell_type": "code",
   "execution_count": 36,
   "id": "0e737b3f-fda8-43be-9d9d-b06186c9d96b",
   "metadata": {
    "executionCancelledAt": null,
    "executionTime": 52,
    "lastExecutedAt": 1758081758386,
    "lastExecutedByKernel": "f42e0594-faa1-458e-8a1c-3554d5a2b89c",
    "lastScheduledRunId": null,
    "lastSuccessfullyExecutedCode": "top_gender = df['sex'].value_counts().idxmax()\nprint(top_gender)",
    "outputsMetadata": {
     "0": {
      "height": 38,
      "type": "stream"
     }
    }
   },
   "outputs": [
    {
     "name": "stdout",
     "output_type": "stream",
     "text": [
      "Male\n"
     ]
    }
   ],
   "source": [
    "top_gender = df['sex'].value_counts().idxmax()\n",
    "print(top_gender)"
   ]
  },
  {
   "cell_type": "code",
   "execution_count": 37,
   "id": "ee2b5d6b-2c5f-475a-a245-a76df8d925ea",
   "metadata": {
    "executionCancelledAt": null,
    "executionTime": 52,
    "lastExecutedAt": 1758081758438,
    "lastExecutedByKernel": "f42e0594-faa1-458e-8a1c-3554d5a2b89c",
    "lastScheduledRunId": null,
    "lastSuccessfullyExecutedCode": "top_country = df['birth_country'].value_counts().idxmax()\nprint(top_country)",
    "outputsMetadata": {
     "0": {
      "height": 38,
      "type": "stream"
     }
    }
   },
   "outputs": [
    {
     "name": "stdout",
     "output_type": "stream",
     "text": [
      "United States of America\n"
     ]
    }
   ],
   "source": [
    "top_country = df['birth_country'].value_counts().idxmax()\n",
    "print(top_country)"
   ]
  },
  {
   "cell_type": "code",
   "execution_count": 38,
   "id": "4d58efe2-dd48-4e7b-bb28-38727c1d3148",
   "metadata": {
    "executionCancelledAt": null,
    "executionTime": 52,
    "lastExecutedAt": 1758081758490,
    "lastExecutedByKernel": "f42e0594-faa1-458e-8a1c-3554d5a2b89c",
    "lastScheduledRunId": null,
    "lastSuccessfullyExecutedCode": "\ndf['decade'] = (df['year'] // 10) * 10\ndf['us_born'] = df['birth_country'] == 'United States of America'\n\ndecade_group = df.groupby('decade')\nus_ratio = (decade_group['us_born'].sum() / decade_group.size()).sort_values(ascending=False)\nmax_decade_usa = us_ratio.idxmax()\nhighest_ratio = us_ratio.max()\n\nprint(max_decade_usa)\nprint(highest_ratio)",
    "outputsMetadata": {
     "0": {
      "height": 59,
      "type": "stream"
     }
    }
   },
   "outputs": [
    {
     "name": "stdout",
     "output_type": "stream",
     "text": [
      "2000\n",
      "0.42276422764227645\n"
     ]
    }
   ],
   "source": [
    "\n",
    "df['decade'] = (df['year'] // 10) * 10\n",
    "df['us_born'] = df['birth_country'] == 'United States of America'\n",
    "\n",
    "decade_group = df.groupby('decade')\n",
    "us_ratio = (decade_group['us_born'].sum() / decade_group.size()).sort_values(ascending=False)\n",
    "max_decade_usa = us_ratio.idxmax()\n",
    "highest_ratio = us_ratio.max()\n",
    "\n",
    "print(max_decade_usa)\n",
    "print(highest_ratio)"
   ]
  },
  {
   "cell_type": "markdown",
   "id": "ba34117c-e4e8-4983-b7a0-952170ca4ac2",
   "metadata": {},
   "source": [
    "¿Qué década y que categoria de premio nobel tuvo  la mayor combinacion de mujeres?"
   ]
  },
  {
   "cell_type": "code",
   "execution_count": 39,
   "id": "15ceb4ad-09b1-4a01-881f-814aec7a0a44",
   "metadata": {
    "executionCancelledAt": null,
    "executionTime": 52,
    "lastExecutedAt": 1758081758542,
    "lastExecutedByKernel": "f42e0594-faa1-458e-8a1c-3554d5a2b89c",
    "lastScheduledRunId": null,
    "lastSuccessfullyExecutedCode": "df['is_female'] = df['sex'] == 'Female'\n\ngrouped_proportions = df.groupby(['decade', 'category'])['is_female'].mean()\n\n# Encuentra el índice (la combinación de década y categoría) con el valor más alto\nmax_combination = grouped_proportions.idxmax()\n\n# Almacena el resultado en el diccionario\nmax_female_dict = {max_combination[0]: max_combination[1]}\n\nprint(max_female_dict)",
    "outputsMetadata": {
     "0": {
      "height": 38,
      "type": "stream"
     }
    }
   },
   "outputs": [
    {
     "name": "stdout",
     "output_type": "stream",
     "text": [
      "{2020: 'Literature'}\n"
     ]
    }
   ],
   "source": [
    "df['is_female'] = df['sex'] == 'Female'\n",
    "\n",
    "grouped_proportions = df.groupby(['decade', 'category'])['is_female'].mean()\n",
    "\n",
    "# Encuentra el índice (la combinación de década y categoría) con el valor más alto\n",
    "max_combination = grouped_proportions.idxmax()\n",
    "\n",
    "# Almacena el resultado en el diccionario\n",
    "max_female_dict = {max_combination[0]: max_combination[1]}\n",
    "\n",
    "print(max_female_dict)"
   ]
  },
  {
   "cell_type": "code",
   "execution_count": 40,
   "id": "eda29330-0169-426b-8b65-b9dbe93f5389",
   "metadata": {
    "executionCancelledAt": null,
    "executionTime": 51,
    "lastExecutedAt": 1758081758594,
    "lastExecutedByKernel": "f42e0594-faa1-458e-8a1c-3554d5a2b89c",
    "lastScheduledRunId": null,
    "lastSuccessfullyExecutedCode": "first_woman = df[df['sex'] == 'Female'].sort_values('year').iloc[0]\nfirst_woman_name = first_woman['full_name']\nfirst_woman_category = first_woman['category']\nprint(first_woman_name)",
    "outputsMetadata": {
     "0": {
      "height": 38,
      "type": "stream"
     }
    }
   },
   "outputs": [
    {
     "name": "stdout",
     "output_type": "stream",
     "text": [
      "Marie Curie, née Sklodowska\n"
     ]
    }
   ],
   "source": [
    "first_woman = df[df['sex'] == 'Female'].sort_values('year').iloc[0]\n",
    "first_woman_name = first_woman['full_name']\n",
    "first_woman_category = first_woman['category']\n",
    "print(first_woman_name)"
   ]
  },
  {
   "cell_type": "markdown",
   "id": "50f465dc-0b64-45ca-98e9-f2c6ce55f0c2",
   "metadata": {},
   "source": [
    "la primera mujer  fue Marie Curie, née Sklodowska "
   ]
  },
  {
   "cell_type": "code",
   "execution_count": 41,
   "id": "f6ec8488-0244-4b46-b648-4a025f28495b",
   "metadata": {
    "executionCancelledAt": null,
    "executionTime": 51,
    "lastExecutedAt": 1758081758645,
    "lastExecutedByKernel": "f42e0594-faa1-458e-8a1c-3554d5a2b89c",
    "lastScheduledRunId": null,
    "lastSuccessfullyExecutedCode": "repeat_counts = df['full_name'].value_counts()\nrepeat_list = repeat_counts[repeat_counts > 1].index.tolist()\n\nwinners_with_multiple_awards = repeat_counts[repeat_counts > 1]\nprint(\"Lista de ganadores con más de un premio:\")\nprint(winners_with_multiple_awards)\nprint(\"Ganadores y su número de premios:\")\nfor winner, count in winners_with_multiple_awards.items():\n  print(f\"Nombre: {winner}, Premios: {count}\")",
    "outputsMetadata": {
     "0": {
      "height": 332,
      "type": "stream"
     }
    }
   },
   "outputs": [
    {
     "name": "stdout",
     "output_type": "stream",
     "text": [
      "Lista de ganadores con más de un premio:\n",
      "Comité international de la Croix Rouge (International Committee of the Red Cross)    3\n",
      "Linus Carl Pauling                                                                   2\n",
      "John Bardeen                                                                         2\n",
      "Frederick Sanger                                                                     2\n",
      "Marie Curie, née Sklodowska                                                          2\n",
      "Office of the United Nations High Commissioner for Refugees (UNHCR)                  2\n",
      "Name: full_name, dtype: int64\n",
      "Ganadores y su número de premios:\n",
      "Nombre: Comité international de la Croix Rouge (International Committee of the Red Cross), Premios: 3\n",
      "Nombre: Linus Carl Pauling, Premios: 2\n",
      "Nombre: John Bardeen, Premios: 2\n",
      "Nombre: Frederick Sanger, Premios: 2\n",
      "Nombre: Marie Curie, née Sklodowska, Premios: 2\n",
      "Nombre: Office of the United Nations High Commissioner for Refugees (UNHCR), Premios: 2\n"
     ]
    }
   ],
   "source": [
    "repeat_counts = df['full_name'].value_counts()\n",
    "repeat_list = repeat_counts[repeat_counts > 1].index.tolist()\n",
    "\n",
    "winners_with_multiple_awards = repeat_counts[repeat_counts > 1]\n",
    "print(\"Lista de ganadores con más de un premio:\")\n",
    "print(winners_with_multiple_awards)\n",
    "print(\"Ganadores y su número de premios:\")\n",
    "for winner, count in winners_with_multiple_awards.items():\n",
    "  print(f\"Nombre: {winner}, Premios: {count}\")"
   ]
  }
 ],
 "metadata": {
  "editor": "DataCamp Workspace",
  "kernelspec": {
   "display_name": "base",
   "language": "python",
   "name": "python3"
  },
  "language_info": {
   "codemirror_mode": {
    "name": "ipython",
    "version": 3
   },
   "file_extension": ".py",
   "mimetype": "text/x-python",
   "name": "python",
   "nbconvert_exporter": "python",
   "pygments_lexer": "ipython3",
   "version": "3.9.21"
  }
 },
 "nbformat": 4,
 "nbformat_minor": 5
}
